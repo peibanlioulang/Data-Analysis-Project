{
  "nbformat": 4,
  "nbformat_minor": 0,
  "metadata": {
    "kernelspec": {
      "display_name": "Python 3",
      "language": "python",
      "name": "python3"
    },
    "language_info": {
      "codemirror_mode": {
        "name": "ipython",
        "version": 3
      },
      "file_extension": ".py",
      "mimetype": "text/x-python",
      "name": "python",
      "nbconvert_exporter": "python",
      "pygments_lexer": "ipython3",
      "version": "3.7.3"
    },
    "colab": {
      "name": "Project2----.ipynb",
      "provenance": [],
      "include_colab_link": true
    }
  },
  "cells": [
    {
      "cell_type": "markdown",
      "metadata": {
        "id": "view-in-github",
        "colab_type": "text"
      },
      "source": [
        "<a href=\"https://colab.research.google.com/github/peibanlioulang/Data-Analysis-Project/blob/main/TwiterTextMining.ipynb\" target=\"_parent\"><img src=\"https://colab.research.google.com/assets/colab-badge.svg\" alt=\"Open In Colab\"/></a>"
      ]
    },
    {
      "cell_type": "code",
      "metadata": {
        "id": "cgA6WRkeq7j8"
      },
      "source": [
        "import time\n",
        "import wordcloud\n",
        "import re\n",
        "import pandas as pd\n",
        "import nltk\n",
        "from nltk.stem.porter import *\n",
        "from wordcloud import WordCloud, STOPWORDS\n",
        "import matplotlib.pyplot as plt\n",
        "import seaborn as sns\n",
        "sns.set()\n",
        "%matplotlib inline\n",
        "import string\n",
        "import warnings \n",
        "warnings.filterwarnings(\"ignore\", category=DeprecationWarning)"
      ],
      "execution_count": null,
      "outputs": []
    },
    {
      "cell_type": "code",
      "metadata": {
        "id": "jbhJj4frq7j9"
      },
      "source": [
        "import pickle\n",
        "with open(\"frozen2_full.txt\", \"rb\") as fp:   # Unpickling\n",
        "    data = pickle.load(fp)"
      ],
      "execution_count": null,
      "outputs": []
    },
    {
      "cell_type": "code",
      "metadata": {
        "colab": {
          "base_uri": "https://localhost:8080/"
        },
        "id": "fmI_4PUiq7j-",
        "outputId": "de1682f0-b7f3-4adf-88d8-2ab0ac02d9a2"
      },
      "source": [
        "print(data[0])"
      ],
      "execution_count": null,
      "outputs": [
        {
          "output_type": "stream",
          "text": [
            "RT @atulmohanhere: Average Weekend Occupancy At National Multiplexes in % (6-8 December)\n",
            "#Panipat 32%\n",
            "#PatiPatniAurWoh 44%\n",
            "#Commando3 28%\n",
            "#…\n"
          ],
          "name": "stdout"
        }
      ]
    },
    {
      "cell_type": "code",
      "metadata": {
        "id": "BSa6pMQzq7j_"
      },
      "source": [
        "def remove_pattern(input_txt, pattern):\n",
        "    r = re.findall(pattern, input_txt)\n",
        "    for i in r:\n",
        "        input_txt = re.sub(i, '', input_txt)\n",
        "    return input_txt\n",
        "import numpy as np\n",
        "def clean_tweets(lst):\n",
        "    # remove twitter Return handles (RT @xxx:)\n",
        "    lst = np.vectorize(remove_pattern)(lst, \"RT @[\\w]*:\")\n",
        "    # remove twitter handles (@xxx)\n",
        "    lst = np.vectorize(remove_pattern)(lst, \"@[\\w]*\")\n",
        "    # remove URL links (httpxxx)\n",
        "    lst = np.vectorize(remove_pattern)(lst, \"https?://[A-Za-z0-9./]*\")\n",
        "\n",
        "    return lst"
      ],
      "execution_count": null,
      "outputs": []
    },
    {
      "cell_type": "code",
      "metadata": {
        "id": "DlPqAEoKq7kA"
      },
      "source": [
        "frozen2 =clean_tweets(data)"
      ],
      "execution_count": null,
      "outputs": []
    },
    {
      "cell_type": "code",
      "metadata": {
        "colab": {
          "base_uri": "https://localhost:8080/",
          "height": 35
        },
        "id": "mOgRKGarq7kA",
        "outputId": "5091e3b0-af84-4b70-ace7-e1f41f2f3881"
      },
      "source": [
        "frozen2[0]"
      ],
      "execution_count": null,
      "outputs": [
        {
          "output_type": "execute_result",
          "data": {
            "application/vnd.google.colaboratory.intrinsic+json": {
              "type": "string"
            },
            "text/plain": [
              "' Average Weekend Occupancy At National Multiplexes in % (6-8 December)\\n#Panipat 32%\\n#PatiPatniAurWoh 44%\\n#Commando3 28%\\n#…'"
            ]
          },
          "metadata": {
            "tags": []
          },
          "execution_count": 6
        }
      ]
    },
    {
      "cell_type": "code",
      "metadata": {
        "colab": {
          "base_uri": "https://localhost:8080/"
        },
        "id": "JPXURL4Lq7kB",
        "outputId": "a2f289bf-66bf-44a7-c628-18dc02130bcd"
      },
      "source": [
        "print(frozen2)"
      ],
      "execution_count": null,
      "outputs": [
        {
          "output_type": "stream",
          "text": [
            "[' Average Weekend Occupancy At National Multiplexes in % (6-8 December)\\n#Panipat 32%\\n#PatiPatniAurWoh 44%\\n#Commando3 28%\\n#…'\n",
            " ' sorry, my hand slipped -\\n\\n#Frozen2  #TangledTheSeries '\n",
            " ' ❝Are there others? Are they here, too? I want to know! Come and show me!❞\\n- Into The Unknown (ger.)\\n\\n#frozen2spoilers #Fro…'\n",
            " ...\n",
            " ' #Frozen2 has been nominated for 2 Golden Globe Awards, including Best Animated Feature and Best Original Song “Into the U…'\n",
            " ' #Frozen2 has been nominated for 2 Golden Globe Awards, including Best Animated Feature and Best Original Song “Into the U…'\n",
            " ' Average Weekend Occupancy At National Multiplexes in % (6-8 December)\\n#Panipat 32%\\n#PatiPatniAurWoh 44%\\n#Commando3 28%\\n#…']\n"
          ],
          "name": "stdout"
        }
      ]
    },
    {
      "cell_type": "code",
      "metadata": {
        "id": "JUFUBwDqq7kC"
      },
      "source": [
        "df_frozen2 = pd.DataFrame(frozen2, columns=['text']) "
      ],
      "execution_count": null,
      "outputs": []
    },
    {
      "cell_type": "code",
      "metadata": {
        "colab": {
          "base_uri": "https://localhost:8080/"
        },
        "id": "6yEql9RAq7kD",
        "outputId": "e4f0d83a-ecd1-4829-b642-cd38162527b9"
      },
      "source": [
        "print(df_frozen2.head(10))"
      ],
      "execution_count": null,
      "outputs": [
        {
          "output_type": "stream",
          "text": [
            "                                                text\n",
            "0   Average Weekend Occupancy At National Multipl...\n",
            "1   sorry, my hand slipped -\\n\\n#Frozen2  #Tangle...\n",
            "2   ❝Are there others? Are they here, too? I want...\n",
            "3   My original post disappeared for some reason,...\n",
            "4   Average Weekend Occupancy At National Multipl...\n",
            "5                    Elsa Knight \\n#frozen #Frozen2 \n",
            "6  Woohooo!! Two Golden Globe nominations for thi...\n",
            "7   Average Weekend Occupancy At National Multipl...\n",
            "8   #Frozen2 scored another $34.7 million this we...\n",
            "9   #Frozen2 has been nominated for 2 Golden Glob...\n"
          ],
          "name": "stdout"
        }
      ]
    },
    {
      "cell_type": "code",
      "metadata": {
        "id": "vqgCnWQbq7kE"
      },
      "source": [
        "def clean_text_round1(text):\n",
        "    '''Make text lowercase, remove text in square brackets, remove punctuation and remove words containing numbers.'''\n",
        "    text = text.lower()\n",
        "    text = re.sub('\\w*\\d\\w*', '', text)\n",
        "    text = re.sub('[%s]' % re.escape(string.punctuation), '', text)\n",
        "    emoji_pattern = re.compile(\"[\"\n",
        "        u\"\\U0001F600-\\U0001F64F\"  # emoticons\n",
        "        u\"\\U0001F300-\\U0001F5FF\"  # symbols & pictographs\n",
        "        u\"\\U0001F680-\\U0001F6FF\"  # transport & map symbols\n",
        "        u\"\\U0001F1E0-\\U0001F1FF\"  # flags (iOS)\n",
        "                           \"]+\", flags=re.UNICODE)\n",
        "    text = emoji_pattern.sub(r'', text) # no emoji\n",
        "    text = re.sub('\\n', '', text)\n",
        "    return text\n",
        "\n",
        "round1 = lambda x: clean_text_round1(x)"
      ],
      "execution_count": null,
      "outputs": []
    },
    {
      "cell_type": "code",
      "metadata": {
        "colab": {
          "base_uri": "https://localhost:8080/",
          "height": 419
        },
        "id": "kJfO3EMwq7kF",
        "outputId": "0bd19627-7d92-4e23-f1e2-eeadc1417251"
      },
      "source": [
        "df_frozen2=pd.DataFrame(df_frozen2.text.apply(round1))\n",
        "df_frozen2.head(100)"
      ],
      "execution_count": null,
      "outputs": [
        {
          "output_type": "execute_result",
          "data": {
            "text/html": [
              "<div>\n",
              "<style scoped>\n",
              "    .dataframe tbody tr th:only-of-type {\n",
              "        vertical-align: middle;\n",
              "    }\n",
              "\n",
              "    .dataframe tbody tr th {\n",
              "        vertical-align: top;\n",
              "    }\n",
              "\n",
              "    .dataframe thead th {\n",
              "        text-align: right;\n",
              "    }\n",
              "</style>\n",
              "<table border=\"1\" class=\"dataframe\">\n",
              "  <thead>\n",
              "    <tr style=\"text-align: right;\">\n",
              "      <th></th>\n",
              "      <th>text</th>\n",
              "    </tr>\n",
              "  </thead>\n",
              "  <tbody>\n",
              "    <tr>\n",
              "      <th>0</th>\n",
              "      <td>average weekend occupancy at national multipl...</td>\n",
              "    </tr>\n",
              "    <tr>\n",
              "      <th>1</th>\n",
              "      <td>sorry my hand slipped   tangledtheseries</td>\n",
              "    </tr>\n",
              "    <tr>\n",
              "      <th>2</th>\n",
              "      <td>❝are there others are they here too i want to...</td>\n",
              "    </tr>\n",
              "    <tr>\n",
              "      <th>3</th>\n",
              "      <td>my original post disappeared for some reason ...</td>\n",
              "    </tr>\n",
              "    <tr>\n",
              "      <th>4</th>\n",
              "      <td>average weekend occupancy at national multipl...</td>\n",
              "    </tr>\n",
              "    <tr>\n",
              "      <th>...</th>\n",
              "      <td>...</td>\n",
              "    </tr>\n",
              "    <tr>\n",
              "      <th>95</th>\n",
              "      <td>and it feels like i am home❄️</td>\n",
              "    </tr>\n",
              "    <tr>\n",
              "      <th>96</th>\n",
              "      <td>congratulations to golden globe nominees ford...</td>\n",
              "    </tr>\n",
              "    <tr>\n",
              "      <th>97</th>\n",
              "      <td>my original post disappeared for some reason ...</td>\n",
              "    </tr>\n",
              "    <tr>\n",
              "      <th>98</th>\n",
              "      <td>has been nominated for  golden globe awards ...</td>\n",
              "    </tr>\n",
              "    <tr>\n",
              "      <th>99</th>\n",
              "      <td>okay here goes felt right to start off  the s...</td>\n",
              "    </tr>\n",
              "  </tbody>\n",
              "</table>\n",
              "<p>100 rows × 1 columns</p>\n",
              "</div>"
            ],
            "text/plain": [
              "                                                 text\n",
              "0    average weekend occupancy at national multipl...\n",
              "1           sorry my hand slipped   tangledtheseries \n",
              "2    ❝are there others are they here too i want to...\n",
              "3    my original post disappeared for some reason ...\n",
              "4    average weekend occupancy at national multipl...\n",
              "..                                                ...\n",
              "95                     and it feels like i am home❄️ \n",
              "96   congratulations to golden globe nominees ford...\n",
              "97   my original post disappeared for some reason ...\n",
              "98    has been nominated for  golden globe awards ...\n",
              "99   okay here goes felt right to start off  the s...\n",
              "\n",
              "[100 rows x 1 columns]"
            ]
          },
          "metadata": {
            "tags": []
          },
          "execution_count": 11
        }
      ]
    },
    {
      "cell_type": "code",
      "metadata": {
        "id": "qti-bY_zq7kF"
      },
      "source": [
        "def clean_text_round2(text):\n",
        "    '''Get rid of some additional punctuation and non-sensical text that was missed the first time around.'''\n",
        "    text = re.sub('frozen', '', text)\n",
        "    text = re.sub('❄️', '', text)\n",
        "    text = re.sub('⭐⭐⭐⭐⭐', '', text)\n",
        "    text = re.sub('❄✨❄✨', '', text)\n",
        "    text = re.sub('🥰', '', text)\n",
        "    \n",
        "    return text\n",
        "\n",
        "round2 = lambda x: clean_text_round2(x)"
      ],
      "execution_count": null,
      "outputs": []
    },
    {
      "cell_type": "code",
      "metadata": {
        "colab": {
          "base_uri": "https://localhost:8080/",
          "height": 419
        },
        "id": "HdwxwGrqq7kG",
        "outputId": "8ab7fc3a-1333-4302-b05b-b8e8dd0abd6a"
      },
      "source": [
        "df_frozen2=pd.DataFrame(df_frozen2.text.apply(round2))\n",
        "df_frozen2.head(100)"
      ],
      "execution_count": null,
      "outputs": [
        {
          "output_type": "execute_result",
          "data": {
            "text/html": [
              "<div>\n",
              "<style scoped>\n",
              "    .dataframe tbody tr th:only-of-type {\n",
              "        vertical-align: middle;\n",
              "    }\n",
              "\n",
              "    .dataframe tbody tr th {\n",
              "        vertical-align: top;\n",
              "    }\n",
              "\n",
              "    .dataframe thead th {\n",
              "        text-align: right;\n",
              "    }\n",
              "</style>\n",
              "<table border=\"1\" class=\"dataframe\">\n",
              "  <thead>\n",
              "    <tr style=\"text-align: right;\">\n",
              "      <th></th>\n",
              "      <th>text</th>\n",
              "    </tr>\n",
              "  </thead>\n",
              "  <tbody>\n",
              "    <tr>\n",
              "      <th>0</th>\n",
              "      <td>average weekend occupancy at national multipl...</td>\n",
              "    </tr>\n",
              "    <tr>\n",
              "      <th>1</th>\n",
              "      <td>sorry my hand slipped   tangledtheseries</td>\n",
              "    </tr>\n",
              "    <tr>\n",
              "      <th>2</th>\n",
              "      <td>❝are there others are they here too i want to...</td>\n",
              "    </tr>\n",
              "    <tr>\n",
              "      <th>3</th>\n",
              "      <td>my original post disappeared for some reason ...</td>\n",
              "    </tr>\n",
              "    <tr>\n",
              "      <th>4</th>\n",
              "      <td>average weekend occupancy at national multipl...</td>\n",
              "    </tr>\n",
              "    <tr>\n",
              "      <th>...</th>\n",
              "      <td>...</td>\n",
              "    </tr>\n",
              "    <tr>\n",
              "      <th>95</th>\n",
              "      <td>and it feels like i am home</td>\n",
              "    </tr>\n",
              "    <tr>\n",
              "      <th>96</th>\n",
              "      <td>congratulations to golden globe nominees ford...</td>\n",
              "    </tr>\n",
              "    <tr>\n",
              "      <th>97</th>\n",
              "      <td>my original post disappeared for some reason ...</td>\n",
              "    </tr>\n",
              "    <tr>\n",
              "      <th>98</th>\n",
              "      <td>has been nominated for  golden globe awards ...</td>\n",
              "    </tr>\n",
              "    <tr>\n",
              "      <th>99</th>\n",
              "      <td>okay here goes felt right to start off  the s...</td>\n",
              "    </tr>\n",
              "  </tbody>\n",
              "</table>\n",
              "<p>100 rows × 1 columns</p>\n",
              "</div>"
            ],
            "text/plain": [
              "                                                 text\n",
              "0    average weekend occupancy at national multipl...\n",
              "1           sorry my hand slipped   tangledtheseries \n",
              "2    ❝are there others are they here too i want to...\n",
              "3    my original post disappeared for some reason ...\n",
              "4    average weekend occupancy at national multipl...\n",
              "..                                                ...\n",
              "95                       and it feels like i am home \n",
              "96   congratulations to golden globe nominees ford...\n",
              "97   my original post disappeared for some reason ...\n",
              "98    has been nominated for  golden globe awards ...\n",
              "99   okay here goes felt right to start off  the s...\n",
              "\n",
              "[100 rows x 1 columns]"
            ]
          },
          "metadata": {
            "tags": []
          },
          "execution_count": 13
        }
      ]
    },
    {
      "cell_type": "code",
      "metadata": {
        "colab": {
          "base_uri": "https://localhost:8080/",
          "height": 372
        },
        "id": "gU6kwYaNq7kG",
        "outputId": "7bd6f077-834f-499e-d468-fafbe1d1752e"
      },
      "source": [
        "from sklearn.feature_extraction.text import CountVectorizer\n",
        "\n",
        "cv = CountVectorizer(stop_words='english')\n",
        "data_cv = cv.fit_transform(df_frozen2.text)\n",
        "data_dtm = pd.DataFrame(data_cv.toarray(), columns=cv.get_feature_names())\n",
        "data_dtm.index = df_frozen2.index\n",
        "data_dtm.head()"
      ],
      "execution_count": null,
      "outputs": [
        {
          "output_type": "execute_result",
          "data": {
            "text/html": [
              "<div>\n",
              "<style scoped>\n",
              "    .dataframe tbody tr th:only-of-type {\n",
              "        vertical-align: middle;\n",
              "    }\n",
              "\n",
              "    .dataframe tbody tr th {\n",
              "        vertical-align: top;\n",
              "    }\n",
              "\n",
              "    .dataframe thead th {\n",
              "        text-align: right;\n",
              "    }\n",
              "</style>\n",
              "<table border=\"1\" class=\"dataframe\">\n",
              "  <thead>\n",
              "    <tr style=\"text-align: right;\">\n",
              "      <th></th>\n",
              "      <th>abeautifuldayintheneighborhood</th>\n",
              "      <th>able</th>\n",
              "      <th>abt</th>\n",
              "      <th>accidentally</th>\n",
              "      <th>ace</th>\n",
              "      <th>act</th>\n",
              "      <th>activities</th>\n",
              "      <th>actually</th>\n",
              "      <th>ad</th>\n",
              "      <th>add</th>\n",
              "      <th>added</th>\n",
              "      <th>adding</th>\n",
              "      <th>adores</th>\n",
              "      <th>aduthasattai</th>\n",
              "      <th>advancement</th>\n",
              "      <th>adventcompetition</th>\n",
              "      <th>adventure</th>\n",
              "      <th>agnarr</th>\n",
              "      <th>ago</th>\n",
              "      <th>ah</th>\n",
              "      <th>ahead</th>\n",
              "      <th>ajsksk</th>\n",
              "      <th>aladdin</th>\n",
              "      <th>alam</th>\n",
              "      <th>alitabattleangel</th>\n",
              "      <th>allnewsongs</th>\n",
              "      <th>allowed</th>\n",
              "      <th>amazing</th>\n",
              "      <th>amp</th>\n",
              "      <th>anchored</th>\n",
              "      <th>ang</th>\n",
              "      <th>animated</th>\n",
              "      <th>animation</th>\n",
              "      <th>anna</th>\n",
              "      <th>anne</th>\n",
              "      <th>announced</th>\n",
              "      <th>answers</th>\n",
              "      <th>anymore</th>\n",
              "      <th>appreciation</th>\n",
              "      <th>arendelle</th>\n",
              "      <th>...</th>\n",
              "      <th>years</th>\n",
              "      <th>yeartheir</th>\n",
              "      <th>yes</th>\n",
              "      <th>yesterday</th>\n",
              "      <th>yesterdaythey</th>\n",
              "      <th>yo</th>\n",
              "      <th>youdive</th>\n",
              "      <th>youll</th>\n",
              "      <th>youre</th>\n",
              "      <th>youtube</th>\n",
              "      <th>youve</th>\n",
              "      <th>ふなのりおえかき</th>\n",
              "      <th>アナと雪の女王</th>\n",
              "      <th>アナ雪</th>\n",
              "      <th>마마무</th>\n",
              "      <th>선율sunyoul</th>\n",
              "      <th>숨겨진세상</th>\n",
              "      <th>태연</th>\n",
              "      <th>𝑬𝒍𝒔𝒂𝒔</th>\n",
              "      <th>𝑻𝒉𝒆𝒚</th>\n",
              "      <th>𝒂𝒎</th>\n",
              "      <th>𝒃𝒖𝒕</th>\n",
              "      <th>𝒄𝒐𝒎𝒆</th>\n",
              "      <th>𝒇𝒂𝒓</th>\n",
              "      <th>𝒉𝒆𝒓𝒆</th>\n",
              "      <th>𝒊𝒏𝒏𝒐𝒄𝒆𝒏𝒕</th>\n",
              "      <th>𝒍𝒐𝒏𝒈𝒆𝒓𝒕𝒓𝒆𝒎𝒃𝒍𝒊𝒏𝒈</th>\n",
              "      <th>𝒍𝒐𝒗𝒆</th>\n",
              "      <th>𝒏𝒐</th>\n",
              "      <th>𝒑𝒆𝒕</th>\n",
              "      <th>𝒔𝒆𝒆𝒎</th>\n",
              "      <th>𝒔𝒉𝒐𝒘</th>\n",
              "      <th>𝒔𝒐</th>\n",
              "      <th>𝒗𝒆</th>\n",
              "      <th>𝒚𝒐𝒖𝒓𝒔𝒆𝒍𝒇</th>\n",
              "      <th>𝘶𝘯𝘤𝘰𝘯𝘥𝘪𝘵𝘪𝘰𝘯𝘢𝘭𝘭𝘺</th>\n",
              "      <th>𝙗𝙪𝙧𝙣</th>\n",
              "      <th>𝙝𝙚𝙡𝙡</th>\n",
              "      <th>𝙡𝙞𝙠𝙚</th>\n",
              "      <th>𝙩𝙝𝙚𝙮</th>\n",
              "    </tr>\n",
              "  </thead>\n",
              "  <tbody>\n",
              "    <tr>\n",
              "      <th>0</th>\n",
              "      <td>0</td>\n",
              "      <td>0</td>\n",
              "      <td>0</td>\n",
              "      <td>0</td>\n",
              "      <td>0</td>\n",
              "      <td>0</td>\n",
              "      <td>0</td>\n",
              "      <td>0</td>\n",
              "      <td>0</td>\n",
              "      <td>0</td>\n",
              "      <td>0</td>\n",
              "      <td>0</td>\n",
              "      <td>0</td>\n",
              "      <td>0</td>\n",
              "      <td>0</td>\n",
              "      <td>0</td>\n",
              "      <td>0</td>\n",
              "      <td>0</td>\n",
              "      <td>0</td>\n",
              "      <td>0</td>\n",
              "      <td>0</td>\n",
              "      <td>0</td>\n",
              "      <td>0</td>\n",
              "      <td>0</td>\n",
              "      <td>0</td>\n",
              "      <td>0</td>\n",
              "      <td>0</td>\n",
              "      <td>0</td>\n",
              "      <td>0</td>\n",
              "      <td>0</td>\n",
              "      <td>0</td>\n",
              "      <td>0</td>\n",
              "      <td>0</td>\n",
              "      <td>0</td>\n",
              "      <td>0</td>\n",
              "      <td>0</td>\n",
              "      <td>0</td>\n",
              "      <td>0</td>\n",
              "      <td>0</td>\n",
              "      <td>0</td>\n",
              "      <td>...</td>\n",
              "      <td>0</td>\n",
              "      <td>0</td>\n",
              "      <td>0</td>\n",
              "      <td>0</td>\n",
              "      <td>0</td>\n",
              "      <td>0</td>\n",
              "      <td>0</td>\n",
              "      <td>0</td>\n",
              "      <td>0</td>\n",
              "      <td>0</td>\n",
              "      <td>0</td>\n",
              "      <td>0</td>\n",
              "      <td>0</td>\n",
              "      <td>0</td>\n",
              "      <td>0</td>\n",
              "      <td>0</td>\n",
              "      <td>0</td>\n",
              "      <td>0</td>\n",
              "      <td>0</td>\n",
              "      <td>0</td>\n",
              "      <td>0</td>\n",
              "      <td>0</td>\n",
              "      <td>0</td>\n",
              "      <td>0</td>\n",
              "      <td>0</td>\n",
              "      <td>0</td>\n",
              "      <td>0</td>\n",
              "      <td>0</td>\n",
              "      <td>0</td>\n",
              "      <td>0</td>\n",
              "      <td>0</td>\n",
              "      <td>0</td>\n",
              "      <td>0</td>\n",
              "      <td>0</td>\n",
              "      <td>0</td>\n",
              "      <td>0</td>\n",
              "      <td>0</td>\n",
              "      <td>0</td>\n",
              "      <td>0</td>\n",
              "      <td>0</td>\n",
              "    </tr>\n",
              "    <tr>\n",
              "      <th>1</th>\n",
              "      <td>0</td>\n",
              "      <td>0</td>\n",
              "      <td>0</td>\n",
              "      <td>0</td>\n",
              "      <td>0</td>\n",
              "      <td>0</td>\n",
              "      <td>0</td>\n",
              "      <td>0</td>\n",
              "      <td>0</td>\n",
              "      <td>0</td>\n",
              "      <td>0</td>\n",
              "      <td>0</td>\n",
              "      <td>0</td>\n",
              "      <td>0</td>\n",
              "      <td>0</td>\n",
              "      <td>0</td>\n",
              "      <td>0</td>\n",
              "      <td>0</td>\n",
              "      <td>0</td>\n",
              "      <td>0</td>\n",
              "      <td>0</td>\n",
              "      <td>0</td>\n",
              "      <td>0</td>\n",
              "      <td>0</td>\n",
              "      <td>0</td>\n",
              "      <td>0</td>\n",
              "      <td>0</td>\n",
              "      <td>0</td>\n",
              "      <td>0</td>\n",
              "      <td>0</td>\n",
              "      <td>0</td>\n",
              "      <td>0</td>\n",
              "      <td>0</td>\n",
              "      <td>0</td>\n",
              "      <td>0</td>\n",
              "      <td>0</td>\n",
              "      <td>0</td>\n",
              "      <td>0</td>\n",
              "      <td>0</td>\n",
              "      <td>0</td>\n",
              "      <td>...</td>\n",
              "      <td>0</td>\n",
              "      <td>0</td>\n",
              "      <td>0</td>\n",
              "      <td>0</td>\n",
              "      <td>0</td>\n",
              "      <td>0</td>\n",
              "      <td>0</td>\n",
              "      <td>0</td>\n",
              "      <td>0</td>\n",
              "      <td>0</td>\n",
              "      <td>0</td>\n",
              "      <td>0</td>\n",
              "      <td>0</td>\n",
              "      <td>0</td>\n",
              "      <td>0</td>\n",
              "      <td>0</td>\n",
              "      <td>0</td>\n",
              "      <td>0</td>\n",
              "      <td>0</td>\n",
              "      <td>0</td>\n",
              "      <td>0</td>\n",
              "      <td>0</td>\n",
              "      <td>0</td>\n",
              "      <td>0</td>\n",
              "      <td>0</td>\n",
              "      <td>0</td>\n",
              "      <td>0</td>\n",
              "      <td>0</td>\n",
              "      <td>0</td>\n",
              "      <td>0</td>\n",
              "      <td>0</td>\n",
              "      <td>0</td>\n",
              "      <td>0</td>\n",
              "      <td>0</td>\n",
              "      <td>0</td>\n",
              "      <td>0</td>\n",
              "      <td>0</td>\n",
              "      <td>0</td>\n",
              "      <td>0</td>\n",
              "      <td>0</td>\n",
              "    </tr>\n",
              "    <tr>\n",
              "      <th>2</th>\n",
              "      <td>0</td>\n",
              "      <td>0</td>\n",
              "      <td>0</td>\n",
              "      <td>0</td>\n",
              "      <td>0</td>\n",
              "      <td>0</td>\n",
              "      <td>0</td>\n",
              "      <td>0</td>\n",
              "      <td>0</td>\n",
              "      <td>0</td>\n",
              "      <td>0</td>\n",
              "      <td>0</td>\n",
              "      <td>0</td>\n",
              "      <td>0</td>\n",
              "      <td>0</td>\n",
              "      <td>0</td>\n",
              "      <td>0</td>\n",
              "      <td>0</td>\n",
              "      <td>0</td>\n",
              "      <td>0</td>\n",
              "      <td>0</td>\n",
              "      <td>0</td>\n",
              "      <td>0</td>\n",
              "      <td>0</td>\n",
              "      <td>0</td>\n",
              "      <td>0</td>\n",
              "      <td>0</td>\n",
              "      <td>0</td>\n",
              "      <td>0</td>\n",
              "      <td>0</td>\n",
              "      <td>0</td>\n",
              "      <td>0</td>\n",
              "      <td>0</td>\n",
              "      <td>0</td>\n",
              "      <td>0</td>\n",
              "      <td>0</td>\n",
              "      <td>0</td>\n",
              "      <td>0</td>\n",
              "      <td>0</td>\n",
              "      <td>0</td>\n",
              "      <td>...</td>\n",
              "      <td>0</td>\n",
              "      <td>0</td>\n",
              "      <td>0</td>\n",
              "      <td>0</td>\n",
              "      <td>0</td>\n",
              "      <td>0</td>\n",
              "      <td>0</td>\n",
              "      <td>0</td>\n",
              "      <td>0</td>\n",
              "      <td>0</td>\n",
              "      <td>0</td>\n",
              "      <td>0</td>\n",
              "      <td>0</td>\n",
              "      <td>0</td>\n",
              "      <td>0</td>\n",
              "      <td>0</td>\n",
              "      <td>0</td>\n",
              "      <td>0</td>\n",
              "      <td>0</td>\n",
              "      <td>0</td>\n",
              "      <td>0</td>\n",
              "      <td>0</td>\n",
              "      <td>0</td>\n",
              "      <td>0</td>\n",
              "      <td>0</td>\n",
              "      <td>0</td>\n",
              "      <td>0</td>\n",
              "      <td>0</td>\n",
              "      <td>0</td>\n",
              "      <td>0</td>\n",
              "      <td>0</td>\n",
              "      <td>0</td>\n",
              "      <td>0</td>\n",
              "      <td>0</td>\n",
              "      <td>0</td>\n",
              "      <td>0</td>\n",
              "      <td>0</td>\n",
              "      <td>0</td>\n",
              "      <td>0</td>\n",
              "      <td>0</td>\n",
              "    </tr>\n",
              "    <tr>\n",
              "      <th>3</th>\n",
              "      <td>0</td>\n",
              "      <td>0</td>\n",
              "      <td>0</td>\n",
              "      <td>1</td>\n",
              "      <td>0</td>\n",
              "      <td>0</td>\n",
              "      <td>0</td>\n",
              "      <td>0</td>\n",
              "      <td>0</td>\n",
              "      <td>0</td>\n",
              "      <td>0</td>\n",
              "      <td>0</td>\n",
              "      <td>0</td>\n",
              "      <td>0</td>\n",
              "      <td>0</td>\n",
              "      <td>0</td>\n",
              "      <td>0</td>\n",
              "      <td>0</td>\n",
              "      <td>0</td>\n",
              "      <td>0</td>\n",
              "      <td>0</td>\n",
              "      <td>0</td>\n",
              "      <td>0</td>\n",
              "      <td>0</td>\n",
              "      <td>0</td>\n",
              "      <td>0</td>\n",
              "      <td>0</td>\n",
              "      <td>0</td>\n",
              "      <td>0</td>\n",
              "      <td>0</td>\n",
              "      <td>0</td>\n",
              "      <td>0</td>\n",
              "      <td>0</td>\n",
              "      <td>0</td>\n",
              "      <td>0</td>\n",
              "      <td>0</td>\n",
              "      <td>0</td>\n",
              "      <td>0</td>\n",
              "      <td>0</td>\n",
              "      <td>0</td>\n",
              "      <td>...</td>\n",
              "      <td>0</td>\n",
              "      <td>0</td>\n",
              "      <td>0</td>\n",
              "      <td>0</td>\n",
              "      <td>0</td>\n",
              "      <td>0</td>\n",
              "      <td>0</td>\n",
              "      <td>0</td>\n",
              "      <td>0</td>\n",
              "      <td>0</td>\n",
              "      <td>0</td>\n",
              "      <td>0</td>\n",
              "      <td>0</td>\n",
              "      <td>0</td>\n",
              "      <td>0</td>\n",
              "      <td>0</td>\n",
              "      <td>0</td>\n",
              "      <td>0</td>\n",
              "      <td>0</td>\n",
              "      <td>0</td>\n",
              "      <td>0</td>\n",
              "      <td>0</td>\n",
              "      <td>0</td>\n",
              "      <td>0</td>\n",
              "      <td>0</td>\n",
              "      <td>0</td>\n",
              "      <td>0</td>\n",
              "      <td>0</td>\n",
              "      <td>0</td>\n",
              "      <td>0</td>\n",
              "      <td>0</td>\n",
              "      <td>0</td>\n",
              "      <td>0</td>\n",
              "      <td>0</td>\n",
              "      <td>0</td>\n",
              "      <td>0</td>\n",
              "      <td>0</td>\n",
              "      <td>0</td>\n",
              "      <td>0</td>\n",
              "      <td>0</td>\n",
              "    </tr>\n",
              "    <tr>\n",
              "      <th>4</th>\n",
              "      <td>0</td>\n",
              "      <td>0</td>\n",
              "      <td>0</td>\n",
              "      <td>0</td>\n",
              "      <td>0</td>\n",
              "      <td>0</td>\n",
              "      <td>0</td>\n",
              "      <td>0</td>\n",
              "      <td>0</td>\n",
              "      <td>0</td>\n",
              "      <td>0</td>\n",
              "      <td>0</td>\n",
              "      <td>0</td>\n",
              "      <td>0</td>\n",
              "      <td>0</td>\n",
              "      <td>0</td>\n",
              "      <td>0</td>\n",
              "      <td>0</td>\n",
              "      <td>0</td>\n",
              "      <td>0</td>\n",
              "      <td>0</td>\n",
              "      <td>0</td>\n",
              "      <td>0</td>\n",
              "      <td>0</td>\n",
              "      <td>0</td>\n",
              "      <td>0</td>\n",
              "      <td>0</td>\n",
              "      <td>0</td>\n",
              "      <td>0</td>\n",
              "      <td>0</td>\n",
              "      <td>0</td>\n",
              "      <td>0</td>\n",
              "      <td>0</td>\n",
              "      <td>0</td>\n",
              "      <td>0</td>\n",
              "      <td>0</td>\n",
              "      <td>0</td>\n",
              "      <td>0</td>\n",
              "      <td>0</td>\n",
              "      <td>0</td>\n",
              "      <td>...</td>\n",
              "      <td>0</td>\n",
              "      <td>0</td>\n",
              "      <td>0</td>\n",
              "      <td>0</td>\n",
              "      <td>0</td>\n",
              "      <td>0</td>\n",
              "      <td>0</td>\n",
              "      <td>0</td>\n",
              "      <td>0</td>\n",
              "      <td>0</td>\n",
              "      <td>0</td>\n",
              "      <td>0</td>\n",
              "      <td>0</td>\n",
              "      <td>0</td>\n",
              "      <td>0</td>\n",
              "      <td>0</td>\n",
              "      <td>0</td>\n",
              "      <td>0</td>\n",
              "      <td>0</td>\n",
              "      <td>0</td>\n",
              "      <td>0</td>\n",
              "      <td>0</td>\n",
              "      <td>0</td>\n",
              "      <td>0</td>\n",
              "      <td>0</td>\n",
              "      <td>0</td>\n",
              "      <td>0</td>\n",
              "      <td>0</td>\n",
              "      <td>0</td>\n",
              "      <td>0</td>\n",
              "      <td>0</td>\n",
              "      <td>0</td>\n",
              "      <td>0</td>\n",
              "      <td>0</td>\n",
              "      <td>0</td>\n",
              "      <td>0</td>\n",
              "      <td>0</td>\n",
              "      <td>0</td>\n",
              "      <td>0</td>\n",
              "      <td>0</td>\n",
              "    </tr>\n",
              "  </tbody>\n",
              "</table>\n",
              "<p>5 rows × 1164 columns</p>\n",
              "</div>"
            ],
            "text/plain": [
              "   abeautifuldayintheneighborhood  able  abt  ...  𝙝𝙚𝙡𝙡  𝙡𝙞𝙠𝙚  𝙩𝙝𝙚𝙮\n",
              "0                               0     0    0  ...     0     0     0\n",
              "1                               0     0    0  ...     0     0     0\n",
              "2                               0     0    0  ...     0     0     0\n",
              "3                               0     0    0  ...     0     0     0\n",
              "4                               0     0    0  ...     0     0     0\n",
              "\n",
              "[5 rows x 1164 columns]"
            ]
          },
          "metadata": {
            "tags": []
          },
          "execution_count": 14
        }
      ]
    },
    {
      "cell_type": "code",
      "metadata": {
        "colab": {
          "base_uri": "https://localhost:8080/"
        },
        "id": "yhco0ZsUq7kH",
        "outputId": "8b626f88-9441-450f-9b39-a77184aaf74f"
      },
      "source": [
        "print(data_dtm.columns)"
      ],
      "execution_count": null,
      "outputs": [
        {
          "output_type": "stream",
          "text": [
            "Index(['abeautifuldayintheneighborhood', 'able', 'abt', 'accidentally', 'ace',\n",
            "       'act', 'activities', 'actually', 'ad', 'add',\n",
            "       ...\n",
            "       '𝒔𝒆𝒆𝒎', '𝒔𝒉𝒐𝒘', '𝒔𝒐', '𝒗𝒆', '𝒚𝒐𝒖𝒓𝒔𝒆𝒍𝒇', '𝘶𝘯𝘤𝘰𝘯𝘥𝘪𝘵𝘪𝘰𝘯𝘢𝘭𝘭𝘺', '𝙗𝙪𝙧𝙣',\n",
            "       '𝙝𝙚𝙡𝙡', '𝙡𝙞𝙠𝙚', '𝙩𝙝𝙚𝙮'],\n",
            "      dtype='object', length=1164)\n"
          ],
          "name": "stdout"
        }
      ]
    },
    {
      "cell_type": "code",
      "metadata": {
        "colab": {
          "base_uri": "https://localhost:8080/"
        },
        "id": "HNzV2_tmq7kH",
        "outputId": "b29fc46b-c8b9-426c-fe6c-8996c5d83b87"
      },
      "source": [
        "import numpy as np\n",
        "data=np.array(data_dtm)\n",
        "sum=data.sum(axis=0)\n",
        "print(sum.shape)"
      ],
      "execution_count": null,
      "outputs": [
        {
          "output_type": "stream",
          "text": [
            "(1164,)\n"
          ],
          "name": "stdout"
        }
      ]
    },
    {
      "cell_type": "code",
      "metadata": {
        "colab": {
          "base_uri": "https://localhost:8080/"
        },
        "id": "AQnlbSaUq7kH",
        "outputId": "a8e014a6-cfce-47af-8e77-606c32b83519"
      },
      "source": [
        "sum = sum.tolist()\n",
        "print(sum)"
      ],
      "execution_count": null,
      "outputs": [
        {
          "output_type": "stream",
          "text": [
            "[1, 1, 1, 52, 2, 1, 1, 7, 1, 1, 1, 2, 1, 150, 1, 5, 2, 1, 5, 1, 4, 2, 1, 3, 2, 1, 1, 4, 16, 1, 1, 355, 9, 60, 2, 3, 1, 1, 1, 8, 1, 1, 2, 111, 35, 1, 2, 11, 1, 1, 2, 7, 1, 5, 1, 2, 2, 1, 1, 2, 3, 1, 1, 4, 1, 298, 9, 1, 1, 346, 2, 2, 1, 1, 1, 2, 1, 1, 1, 1, 3, 1, 2, 1, 1, 97, 1, 1, 13, 3, 1, 2, 1, 2, 1, 1, 708, 1, 6, 1, 1, 160, 3, 6, 1, 2, 2, 1, 1, 2, 1, 1, 2, 1, 2, 1, 5, 8, 4, 1, 2, 1, 1, 2, 11, 1, 1, 2, 1, 1, 2, 4, 1, 1, 1, 1, 2, 3, 1, 1, 1, 2, 3, 2, 1, 2, 1, 1, 11, 91, 1, 2, 1, 1, 3, 1, 4, 1, 2, 6, 7, 2, 1, 1, 1, 1, 9, 1, 1, 1, 1, 2, 30, 1, 2, 1, 1, 2, 2, 1, 1, 1, 1, 2, 1, 1, 2, 1, 8, 1, 3, 1, 1, 1, 172, 1, 2, 2, 1, 1, 2, 1, 2, 2, 1, 1, 5, 1, 1, 1, 1, 31, 1, 1, 3, 1, 1, 2, 1, 5, 1, 2, 5, 9, 1, 1, 1, 1, 5, 2, 1, 5, 10, 155, 148, 1, 3, 1, 52, 1, 1, 5, 6, 1, 1, 1, 2, 5, 5, 1, 1, 1, 52, 1, 13, 30, 1, 1, 1, 1, 1, 1, 6, 2, 1, 1, 1, 1, 1, 2, 1, 2, 1, 5, 1, 1, 5, 1, 1, 1, 2, 1, 1, 2, 1, 1, 3, 1, 13, 383, 3, 2, 5, 1, 2, 6, 2, 4, 1, 16, 5, 1, 1, 2, 2, 1, 1, 1, 1, 1, 1, 1, 1, 1, 1, 1, 1, 1, 2, 1, 2, 5, 1, 1, 2, 1, 3, 8, 2, 3, 1, 9, 4, 1, 356, 1, 2, 2, 1, 5, 1, 2, 1, 1, 1, 1, 1, 2, 2, 4, 1, 3, 1, 1, 1, 2, 1, 1, 1, 15, 1, 1, 1, 175, 2, 1, 3, 3, 5, 2, 1, 4, 1, 2, 1, 5, 6, 1, 1, 8, 1, 1, 3, 1, 2, 1, 2, 92, 13, 2, 1, 2, 3, 3, 3, 488, 1, 2, 18, 1, 4, 489, 26, 278, 4, 91, 1, 5, 1, 2, 8, 1, 3, 3, 1, 1, 1, 1, 1, 2, 1, 2, 1, 3, 2, 68, 7, 1, 5, 1, 5, 1, 1, 2, 1, 1, 4, 1, 1, 1, 1, 1, 1, 2, 1, 1, 1, 1, 1, 1, 1, 1, 3, 11, 4, 1, 1, 1, 4, 5, 1, 2, 7, 5, 6, 13, 4, 1, 2, 3, 3, 1, 1, 1, 2, 1, 1, 1, 9, 5, 1, 1, 74, 2, 2, 2, 1, 1, 1, 348, 2, 2, 1, 1, 7, 1, 2, 1, 18, 1, 1, 1, 1, 1, 1, 2, 1, 1, 7, 4, 1, 1, 1, 2, 2, 3, 25, 2, 16, 3, 1, 1, 1, 2, 1, 2, 1, 1, 246, 8, 2, 11, 2, 2, 1, 1, 7, 2, 1, 1, 1, 1, 1, 1, 1, 2, 1, 2, 1, 1, 1, 7, 1, 1, 1, 5, 3, 31, 2, 2, 1, 1, 1, 26, 2, 1, 5, 16, 6, 25, 2, 1, 5, 19, 2, 1, 1, 10, 2, 119, 1, 4, 2, 1, 1, 1, 4, 1, 4, 2, 1, 11, 3, 1, 1, 1, 1, 1, 1, 1, 1, 1, 2, 21, 1, 5, 1, 2, 13, 1, 1, 1, 1, 3, 1, 3, 2, 3, 1, 2, 4, 1, 2, 2, 1, 1, 3, 25, 1, 5, 1, 1, 1, 14, 1, 9, 1, 300, 1, 1, 4, 1, 2, 1, 1, 307, 1, 2, 2, 1, 1, 1, 3, 24, 1, 1, 1, 3, 1, 1, 359, 92, 1, 171, 25, 1, 1, 2, 27, 2, 1, 1, 1, 307, 8, 4, 1, 2, 1, 5, 1, 1, 23, 1, 1, 2, 1, 1, 2, 1, 1, 1, 457, 1, 1, 3, 1, 1, 1, 1, 1, 1, 1, 1, 1, 1, 1, 4, 1, 1, 9, 150, 1, 1, 3, 3, 1, 13, 1, 1, 2, 1, 1, 1, 1, 1, 1, 6, 5, 4, 26, 1, 9, 4, 2, 2, 1, 1, 2, 1, 1, 1, 1, 55, 6, 1, 1, 1, 1, 1, 1, 1, 2, 1, 1, 2, 1, 1, 2, 1, 1, 1, 1, 1, 1, 4, 1, 1, 7, 2, 1, 1, 5, 1, 2, 2, 1, 5, 1, 7, 1, 1, 2, 1, 6, 75, 1, 52, 1, 1, 1, 3, 1, 13, 2, 1, 1, 16, 11, 2, 1, 2, 1, 1, 1, 1, 1, 1, 1, 5, 4, 1, 15, 2, 3, 90, 1, 1, 2, 1, 1, 1, 1, 2, 1, 54, 1, 6, 1, 1, 1, 1, 5, 1, 1, 2, 5, 15, 15, 1, 1, 1, 1, 19, 2, 2, 1, 2, 5, 5, 1, 1, 3, 1, 1, 4, 1, 1, 1, 2, 1, 2, 1, 2, 1, 1, 1, 3, 1, 1, 1, 1, 1, 10, 1, 2, 1, 1, 3, 7, 5, 3, 1, 1, 1, 68, 1, 1, 9, 1, 5, 1, 1, 1, 1, 1, 441, 7, 1, 1, 5, 1, 1, 68, 1, 33, 1, 1, 1, 1, 4, 1, 90, 5, 2, 2, 1, 1, 2, 1, 2, 1, 2, 1, 1, 3, 1, 1, 1, 15, 2, 2, 1, 1, 5, 1, 1, 1, 1, 25, 1, 1, 2, 1, 1, 1, 1, 2, 1, 1, 2, 1, 1, 1, 4, 4, 68, 2, 2, 1, 3, 3, 1, 2, 59, 11, 2, 6, 2, 33, 1, 3, 1, 1, 25, 1, 90, 184, 3, 2, 10, 10, 9, 5, 2, 1, 1, 2, 1, 2, 13, 1, 14, 4, 1, 5, 1, 4, 1, 1, 1, 1, 2, 2, 1, 11, 1, 5, 1, 2, 2, 11, 1, 1, 3, 2, 2, 1, 1, 2, 1, 2, 1, 1, 5, 1, 47, 1, 1, 1, 1, 3, 1, 9, 3, 1, 1, 9, 1, 1, 1, 5, 5, 2, 1, 1, 1, 3, 1, 1, 2, 5, 1, 1, 3, 3, 2, 3, 8, 2, 3, 19, 4, 1, 9, 5, 1, 1, 1, 2, 1, 1, 1, 15, 326, 1, 2, 3, 1, 1, 1, 5, 2, 1, 1, 1, 15, 20, 1, 1, 1, 6, 5, 5, 1, 1, 1, 3, 1, 9, 1, 1, 1, 1, 1, 8, 1, 1, 1, 1, 4, 3, 2, 2, 13, 1, 3, 1, 1, 2, 1, 1, 3, 6, 2, 1, 4, 2, 1, 1, 1, 1, 9, 1, 3, 1, 1, 1, 1, 1, 1, 1, 1, 1, 1, 1, 1, 1, 1, 1, 1, 1, 1, 1, 1, 1, 2, 1, 1, 1, 1, 1, 1, 1]\n"
          ],
          "name": "stdout"
        }
      ]
    },
    {
      "cell_type": "code",
      "metadata": {
        "colab": {
          "base_uri": "https://localhost:8080/"
        },
        "id": "AeXZ8xrbq7kI",
        "outputId": "4010013b-2eff-47b1-9df4-4066cc4e56f9"
      },
      "source": [
        "import heapq\n",
        "\n",
        "max_number = heapq.nlargest(50, sum) \n",
        "max_index = []\n",
        "for t in max_number:\n",
        "    index = sum.index(t)\n",
        "    max_index.append(index)\n",
        "    sum[index] = 0\n",
        "    \n",
        "print(max_number)\n",
        "print(max_index)"
      ],
      "execution_count": null,
      "outputs": [
        {
          "output_type": "stream",
          "text": [
            "[708, 489, 488, 457, 441, 383, 359, 356, 355, 348, 346, 326, 307, 307, 300, 298, 278, 246, 184, 175, 172, 171, 160, 155, 150, 150, 148, 119, 111, 97, 92, 92, 91, 91, 90, 90, 90, 75, 74, 68, 68, 68, 68, 60, 59, 55, 54, 52, 52, 52]\n",
            "[96, 401, 395, 692, 896, 289, 660, 334, 31, 489, 69, 1074, 645, 673, 637, 65, 403, 528, 977, 363, 194, 663, 101, 233, 13, 711, 234, 579, 43, 85, 387, 661, 149, 405, 815, 912, 976, 785, 482, 425, 885, 903, 956, 33, 964, 743, 825, 3, 238, 252]\n"
          ],
          "name": "stdout"
        }
      ]
    },
    {
      "cell_type": "code",
      "metadata": {
        "colab": {
          "base_uri": "https://localhost:8080/"
        },
        "id": "WkTFA_9jq7kI",
        "outputId": "7e24a281-1b21-4b4b-c26c-5c1bc1a66e0a"
      },
      "source": [
        "Top_words=[]\n",
        "for i in (max_index):\n",
        "    word = data_dtm.columns[i]\n",
        "    Top_words.append(word)\n",
        "print(Top_words)   "
      ],
      "execution_count": null,
      "outputs": [
        {
          "output_type": "stream",
          "text": [
            "['best', 'golden', 'globe', 'original', 'song', 'elsa', 'nominated', 'feature', 'animated', 'including', 'awards', 'weekend', 'national', 'occupancy', 'multiplexes', 'average', 'goldenglobes', 'knight', 'thelionking', 'fordvferrari', 'congratulations', 'nominees', 'bigil', 'december', 'aduthasattai', 'patipatniaurwoh', 'decemberpanipat', 'love', 'arjunsu', 'beautiful', 'ghosts', 'nominations', 'cats', 'gonna', 'rocketman', 'spirit', 'theli', 'really', 'im', 'hand', 'slipped', 'sorry', 'tangledtheseries', 'anna', 'th', 'post', 'sad', 'accidentally', 'deleted', 'disappeared']\n"
          ],
          "name": "stdout"
        }
      ]
    },
    {
      "cell_type": "code",
      "metadata": {
        "id": "bjWdHFlGq7kI"
      },
      "source": [
        "def word_cloud(Top_words):\n",
        "    stopwords = set(STOPWORDS)\n",
        "    all_words = ' '.join([text for text in Top_words])\n",
        "    wordcloud = WordCloud(\n",
        "        background_color='white',\n",
        "        stopwords=stopwords,\n",
        "        width=1600,\n",
        "        height=800,\n",
        "        random_state=21,\n",
        "        colormap='jet',\n",
        "        max_words=50,\n",
        "        max_font_size=200).generate(all_words)\n",
        "\n",
        "    plt.figure(figsize=(12, 10))\n",
        "    plt.axis('off')\n",
        "    plt.imshow(wordcloud, interpolation=\"bilinear\");"
      ],
      "execution_count": null,
      "outputs": []
    },
    {
      "cell_type": "code",
      "metadata": {
        "colab": {
          "base_uri": "https://localhost:8080/",
          "height": 366
        },
        "id": "WQTDkg_Yq7kI",
        "outputId": "31fe324c-74a1-4d04-996c-215e4ba63599"
      },
      "source": [
        "word_cloud(Top_words)"
      ],
      "execution_count": null,
      "outputs": [
        {
          "output_type": "display_data",
          "data": {
            "image/png": "[encoded data removed]",
            "text/plain": [
              "<Figure size 864x720 with 1 Axes>"
            ]
          },
          "metadata": {
            "tags": [],
            "needs_background": "light"
          }
        }
      ]
    },
    {
      "cell_type": "code",
      "metadata": {
        "id": "1f3Anpz5q7kJ"
      },
      "source": [
        ""
      ],
      "execution_count": null,
      "outputs": []
    }
  ]
}